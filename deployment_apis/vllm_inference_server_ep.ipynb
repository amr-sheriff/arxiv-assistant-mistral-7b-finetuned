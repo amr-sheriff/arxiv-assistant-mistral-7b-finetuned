{
 "nbformat": 4,
 "nbformat_minor": 0,
 "metadata": {
  "colab": {
   "provenance": [],
   "authorship_tag": "ABX9TyPHKcwZDCvhcwfJsKINDpvA"
  },
  "kernelspec": {
   "name": "python3",
   "display_name": "Python 3 (ipykernel)",
   "language": "python"
  },
  "language_info": {
   "name": "python"
  }
 },
 "cells": [
  {
   "metadata": {},
   "cell_type": "markdown",
   "source": [
    "### **ArXiv Assistant Project - VLLM Inference Server Endpoint Testing**\n",
    "\n",
    "This notebook is tailored to perform a simple inference for the VLLM inference server endpoint. It demonstrates how to interact with the deployed model using both the OpenAI API format and direct HTTP requests, showcasing the model's capabilities in handling arXiv-related queries and generating relevant responses.\n",
    "\n",
    "The notebook is designed to be a practical tool for testing the deployed model's performance, response quality, inference speed, tokens utilization, and API functionality. It offers examples of prompts and response parsing, which can be valuable for both development and qualitative evaluation purposes.\n",
    "\n",
    "The Notebook includes the following key components:\n",
    "\n",
    "1. **Setup and Configuration**:\n",
    "   - Imports necessary libraries such as openai and requests.\n",
    "   - Sets up authentication by retrieving API tokens and endpoint URLs.\n",
    "\n",
    "2. **OpenAI Client Interface**:\n",
    "   - Demonstrates how to use the OpenAI Python client to interact with the VLLM endpoint.\n",
    "   - Configures the client with the appropriate API key and base URL.\n",
    "\n",
    "3. **Chat Completion Request**:\n",
    "   - Implements a chat completion request using the OpenAI client.\n",
    "   - Shows how to structure prompts and handle model parameters like temperature and max tokens.\n",
    "\n",
    "4. **HTTP POST Request Implementation**:\n",
    "   - Provides a custom function to send HTTP POST requests directly to the VLLM endpoint.\n",
    "   - Demonstrates how to structure the payload and headers for the request.\n",
    "\n",
    "5. **Response Handling and Parsing**:\n",
    "   - Processes and displays the model's responses.\n",
    "   - Extracts relevant information from the JSON responses.\n",
    "\n",
    "6. **Example Queries and Outputs**:\n",
    "   - Includes sample prompts related to arXiv papers and scientific topics.\n",
    "   - Displays and analyzes the model's responses to these queries.\n",
    "\n",
    "7. **Performance and Quality Assessment**:\n",
    "   - Allows for quick testing and evaluation of the model's output quality and relevance.\n",
    "\n",
    "Author: Amr Sherif  \n",
    "Created Date: 2024-06-13  \n",
    "Updated Date: 2024-09-30  \n",
    "Version: 2.0"
   ]
  },
  {
   "cell_type": "code",
   "source": [
    "!pip install openai"
   ],
   "metadata": {
    "colab": {
     "base_uri": "https://localhost:8080/"
    },
    "id": "vp-PyDdlfg_C",
    "executionInfo": {
     "status": "ok",
     "timestamp": 1718115019096,
     "user_tz": -240,
     "elapsed": 10641,
     "user": {
      "displayName": "Amr Achraf",
      "userId": "01741171265289641694"
     }
    },
    "outputId": "d1216d98-16e1-4d9e-f9f1-00a142ca302c",
    "ExecuteTime": {
     "end_time": "2024-06-20T17:23:14.559498Z",
     "start_time": "2024-06-20T17:23:13.443971Z"
    }
   },
   "outputs": [
    {
     "name": "stdout",
     "output_type": "stream",
     "text": [
      "Requirement already satisfied: openai in /opt/anaconda3/envs/arxiv-assistant/lib/python3.10/site-packages (1.34.0)\r\n",
      "Requirement already satisfied: anyio<5,>=3.5.0 in /opt/anaconda3/envs/arxiv-assistant/lib/python3.10/site-packages (from openai) (3.7.1)\r\n",
      "Requirement already satisfied: distro<2,>=1.7.0 in /opt/anaconda3/envs/arxiv-assistant/lib/python3.10/site-packages (from openai) (1.9.0)\r\n",
      "Requirement already satisfied: httpx<1,>=0.23.0 in /opt/anaconda3/envs/arxiv-assistant/lib/python3.10/site-packages (from openai) (0.27.0)\r\n",
      "Requirement already satisfied: pydantic<3,>=1.9.0 in /opt/anaconda3/envs/arxiv-assistant/lib/python3.10/site-packages (from openai) (2.7.4)\r\n",
      "Requirement already satisfied: sniffio in /opt/anaconda3/envs/arxiv-assistant/lib/python3.10/site-packages (from openai) (1.3.1)\r\n",
      "Requirement already satisfied: tqdm>4 in /opt/anaconda3/envs/arxiv-assistant/lib/python3.10/site-packages (from openai) (4.66.4)\r\n",
      "Requirement already satisfied: typing-extensions<5,>=4.7 in /opt/anaconda3/envs/arxiv-assistant/lib/python3.10/site-packages (from openai) (4.12.2)\r\n",
      "Requirement already satisfied: idna>=2.8 in /opt/anaconda3/envs/arxiv-assistant/lib/python3.10/site-packages (from anyio<5,>=3.5.0->openai) (3.7)\r\n",
      "Requirement already satisfied: exceptiongroup in /opt/anaconda3/envs/arxiv-assistant/lib/python3.10/site-packages (from anyio<5,>=3.5.0->openai) (1.2.1)\r\n",
      "Requirement already satisfied: certifi in /opt/anaconda3/envs/arxiv-assistant/lib/python3.10/site-packages (from httpx<1,>=0.23.0->openai) (2024.6.2)\r\n",
      "Requirement already satisfied: httpcore==1.* in /opt/anaconda3/envs/arxiv-assistant/lib/python3.10/site-packages (from httpx<1,>=0.23.0->openai) (1.0.5)\r\n",
      "Requirement already satisfied: h11<0.15,>=0.13 in /opt/anaconda3/envs/arxiv-assistant/lib/python3.10/site-packages (from httpcore==1.*->httpx<1,>=0.23.0->openai) (0.14.0)\r\n",
      "Requirement already satisfied: annotated-types>=0.4.0 in /opt/anaconda3/envs/arxiv-assistant/lib/python3.10/site-packages (from pydantic<3,>=1.9.0->openai) (0.7.0)\r\n",
      "Requirement already satisfied: pydantic-core==2.18.4 in /opt/anaconda3/envs/arxiv-assistant/lib/python3.10/site-packages (from pydantic<3,>=1.9.0->openai) (2.18.4)\r\n"
     ]
    }
   ],
   "execution_count": 1
  },
  {
   "cell_type": "code",
   "source": [
    "from google.colab import userdata\n",
    "\n",
    "vllmToken = userdata.get('vllm-arxiv_assistant')\n",
    "vllmApiUrl = userdata.get('vllm-api-url')"
   ],
   "metadata": {
    "id": "a3Sz-WCRfuHo"
   },
   "execution_count": null,
   "outputs": []
  },
  {
   "metadata": {},
   "cell_type": "markdown",
   "source": "#### Test the endpoint with OpenAI Client and Chat Template"
  },
  {
   "cell_type": "code",
   "source": [
    "prompt = \"\"\"Answer the following question based on the text: What is the main point discussed? be clear, concise,\n",
    "and structured.\\nThe route requests reach the destination T, which \\nconstructs the route replies; it calculates a MAC covering\n",
    "the \\nroute reply contents and returns the packet to S over the \\nreverse of the route accumulated in the respective request\n",
    "\\npacket. The destination responds to one or more request \\npackets of the same query, so that it provides the source\n",
    "\\nwith an as diverse topology picture as possible.4 The \\nquerying node validates the replies and updates its topology \\nview.\n",
    "\\nAs an illustrative example, consider the topology of \\nFig.1, comprising ten nodes. S queries the network to \\ndiscover\n",
    "one or more routes to T. The nodes M1 and M2 are \\ntwo malicious intermediate nodes. We denote the query \\nrequest as a\n",
    "list {QS,T;n1,n2,..,nk}, with QS,T denoting the SRP \\nheader for a query searching for T and initiated by S. The ni,\n",
    "\\ni≠{1,k}, are the IP addresses of the traversed intermediate \\nnodes and n1=S, nk=T. Similarly, the route reply is denoted\n",
    "\\nas {RS,T;n1,n2,..,nk}.We now consider a number of scenarios \\nof possible security attacks by the two malicious nodes.\n",
    "\\n \\n \\n \\n \\n \\n \\n \\n \\n \\nFigure 1. Example Topology: S wishes to discover a route \\nto T in the presence of two malicious\n",
    "nodes, M1 and M2. \\n \\nScenario 1: Consider the case that when M1 receives \\n{QS,T;S}, it attempts to mislead S by generating\n",
    "\\n{RS,T;S,M1,T}. Not only would S accept such a reply, if a \\nregular routing protocol were used, but it would most \\nprobably\n",
    "choose this fake route, since {S,M1,T} would have \\nfewer hops than any other legitimate reply. It would also be \\nreceived\n",
    "with the least delay, because of the close distance \\nbetween M1 and S. The requirement that the request reaches \\n\n",
    "\\n4 The number of replies and the time-window the destination \\nallocates for replies to a specific query are design\n",
    "\\nparameters. Moreover, the source could provide an indicator \\nof the required diversity, so that T can regulate the number\n",
    "\\nof replies.   2 M1 5 \\n3 M2 T \\n6 S 1 4\"\"\""
   ],
   "metadata": {
    "id": "7iWbQOpuaQOD",
    "ExecuteTime": {
     "end_time": "2024-06-20T17:23:18.504472Z",
     "start_time": "2024-06-20T17:23:18.500175Z"
    }
   },
   "outputs": [],
   "execution_count": 2
  },
  {
   "cell_type": "code",
   "source": [
    "from openai import OpenAI\n",
    "\n",
    "openai_api_key = vllmToken\n",
    "openai_api_base = vllmApiUrl\n",
    "\n",
    "client = OpenAI(\n",
    "    api_key=openai_api_key,\n",
    "    base_url=openai_api_base,\n",
    ")\n",
    "\n",
    "chat_response = client.chat.completions.create(\n",
    "    model=\"amrachraf/arxiv-assistant-merged_peft_model\",\n",
    "    top_p= 0.95,\n",
    "    temperature= 0.9,\n",
    "    max_tokens=1000,\n",
    "    # stream=True,\n",
    "    messages=[\n",
    "        {\"role\": \"user\",\n",
    "         \"content\": prompt},\n",
    "    ],\n",
    "    extra_body={\"min_tokens\": 1,\n",
    "                \"skip_special_tokens\": True,\n",
    "                \"top_k\": 50}\n",
    "\n",
    ")"
   ],
   "metadata": {
    "id": "pBfS8Y10fkZU",
    "ExecuteTime": {
     "end_time": "2024-06-20T17:37:43.227226Z",
     "start_time": "2024-06-20T17:37:35.398442Z"
    }
   },
   "outputs": [],
   "execution_count": 18
  },
  {
   "cell_type": "code",
   "source": "print(chat_response.choices[0].message.content)",
   "metadata": {
    "colab": {
     "base_uri": "https://localhost:8080/"
    },
    "id": "A992MiqqbI_8",
    "executionInfo": {
     "status": "ok",
     "timestamp": 1718128479452,
     "user_tz": -240,
     "elapsed": 416,
     "user": {
      "displayName": "Amr Achraf",
      "userId": "01741171265289641694"
     }
    },
    "outputId": "1a31c192-deb4-4eb4-8da5-300510b0a75b",
    "ExecuteTime": {
     "end_time": "2024-06-20T17:38:33.427688Z",
     "start_time": "2024-06-20T17:38:33.424374Z"
    }
   },
   "outputs": [
    {
     "name": "stdout",
     "output_type": "stream",
     "text": [
      "\n",
      "The main point discussed in the text is a method for a querying node (S) to discover one or more routes to a destination (T) in a network, while preventing potential security attacks from malicious intermediate nodes (M1 and M2). The method involves route requests and replies, with the route replies calculated with a MAC (Message Authentication Code) to ensure their authenticity and integrity. The querying node validates the replies and updates its topology view. The text also provides an example topology and discusses possible scenarios of security attacks by the malicious nodes, such as attempting to mislead the source by generating fake routes with fewer hops and shorter delay. The number of replies and the time-window allocated for replies are design parameters that can be regulated by the source to ensure a diverse topology picture. \n"
     ]
    }
   ],
   "execution_count": 20
  },
  {
   "metadata": {},
   "cell_type": "markdown",
   "source": "#### Test the endpoint with a POST request and Chat Template"
  },
  {
   "cell_type": "code",
   "source": [
    "import requests\n",
    "\n",
    "def post_http_request(prompt: str,\n",
    "                      api_url: str,\n",
    "                      n: int = 1,\n",
    "                      stream: bool = False) -> requests.Response:\n",
    "    headers = {\"User-Agent\": \"Test Client\", \"Authorization\": \"Bearer \"+openai_api_key}\n",
    "    pload = {\n",
    "        \"messages\": [{\"role\": \"user\", \"content\": \"Answer the following question based on the text: What is the main point discussed? be clear, concise, and structured.\\nThe route requests reach the destination T, which \\nconstructs the route replies; it calculates a MAC covering the \\nroute reply contents and returns the packet to S over the \\nreverse of the route accumulated in the respective request \\npacket. The destination responds to one or more request \\npackets of the same query, so that it provides the source \\nwith an as diverse topology picture as possible.4 The \\nquerying node validates the replies and updates its topology \\nview. \\nAs an illustrative example, consider the topology of \\nFig.1, comprising ten nodes. S queries the network to \\ndiscover one or more routes to T. The nodes M1 and M2 are \\ntwo malicious intermediate nodes. We denote the query \\nrequest as a list {QS,T;n1,n2,..,nk}, with QS,T denoting the SRP \\nheader for a query searching for T and initiated by S. The ni, \\ni≠{1,k}, are the IP addresses of the traversed intermediate \\nnodes and n1=S, nk=T. Similarly, the route reply is denoted \\nas {RS,T;n1,n2,..,nk}.We now consider a number of scenarios \\nof possible security attacks by the two malicious nodes. \\n \\n \\n \\n \\n \\n \\n \\n \\n \\nFigure 1. Example Topology: S wishes to discover a route \\nto T in the presence of two malicious nodes, M1 and M2. \\n \\nScenario 1: Consider the case that when M1 receives \\n{QS,T;S}, it attempts to mislead S by generating  \\n{RS,T;S,M1,T}. Not only would S accept such a reply, if a \\nregular routing protocol were used, but it would most \\nprobably choose this fake route, since {S,M1,T} would have \\nfewer hops than any other legitimate reply. It would also be \\nreceived with the least delay, because of the close distance \\nbetween M1 and S. The requirement that the request reaches \\n                                                \\n4 The number of replies and the time-window the destination \\nallocates for replies to a specific query are design \\nparameters. Moreover, the source could provide an indicator \\nof the required diversity, so that T can regulate the number \\nof replies.   2 M1 5 \\n3 M2 T \\n6 S 1 4\"}],\n",
    "        # \"prompt\": prompt,\n",
    "        \"n\": n,\n",
    "        # \"use_beam_search\": True,\n",
    "        \"temperature\": 0.9,\n",
    "        \"max_tokens\": 1000,\n",
    "        \"min_tokens\": 1,\n",
    "        # \"stream\": stream,\n",
    "        \"model\": \"amrachraf/arxiv-assistant-merged_peft_model\",\n",
    "        \"skip_special_tokens\": True,\n",
    "        \"top_k\": 50,\n",
    "        \"SamplingParams\": {\"min_tokens\": 1, \"skip_special_tokens\": True, \"top_k\": 50}\n",
    "    }\n",
    "    response = requests.post(api_url, headers=headers, json=pload)\n",
    "    return response"
   ],
   "metadata": {
    "id": "Lz2_zn3NfO3G"
   },
   "execution_count": null,
   "outputs": []
  },
  {
   "cell_type": "code",
   "source": [
    "response = post_http_request(\"<s>[INST]Answer the following question based on the text: What is the main point discussed? be clear, concise, and structured.\\nThe route requests reach the destination T, which \\nconstructs the route replies; it calculates a MAC covering the \\nroute reply contents and returns the packet to S over the \\nreverse of the route accumulated in the respective request \\npacket. The destination responds to one or more request \\npackets of the same query, so that it provides the source \\nwith an as diverse topology picture as possible.4 The \\nquerying node validates the replies and updates its topology \\nview. \\nAs an illustrative example, consider the topology of \\nFig.1, comprising ten nodes. S queries the network to \\ndiscover one or more routes to T. The nodes M1 and M2 are \\ntwo malicious intermediate nodes. We denote the query \\nrequest as a list {QS,T;n1,n2,..,nk}, with QS,T denoting the SRP \\nheader for a query searching for T and initiated by S. The ni, \\ni≠{1,k}, are the IP addresses of the traversed intermediate \\nnodes and n1=S, nk=T. Similarly, the route reply is denoted \\nas {RS,T;n1,n2,..,nk}.We now consider a number of scenarios \\nof possible security attacks by the two malicious nodes. \\n \\n \\n \\n \\n \\n \\n \\n \\n \\nFigure 1. Example Topology: S wishes to discover a route \\nto T in the presence of two malicious nodes, M1 and M2. \\n \\nScenario 1: Consider the case that when M1 receives \\n{QS,T;S}, it attempts to mislead S by generating  \\n{RS,T;S,M1,T}. Not only would S accept such a reply, if a \\nregular routing protocol were used, but it would most \\nprobably choose this fake route, since {S,M1,T} would have \\nfewer hops than any other legitimate reply. It would also be \\nreceived with the least delay, because of the close distance \\nbetween M1 and S. The requirement that the request reaches \\n                                                \\n4 The number of replies and the time-window the destination \\nallocates for replies to a specific query are design \\nparameters. Moreover, the source could provide an indicator \\nof the required diversity, so that T can regulate the number \\nof replies.   2 M1 5 \\n3 M2 T \\n6 S 1 4 [\\INST]\",\n",
    "                             openai_api_base+\"/chat/completions\")"
   ],
   "metadata": {
    "id": "RJgm0DU6uT3P"
   },
   "execution_count": null,
   "outputs": []
  },
  {
   "cell_type": "code",
   "source": [
    "response.json()"
   ],
   "metadata": {
    "colab": {
     "base_uri": "https://localhost:8080/"
    },
    "id": "FdB0iHNAu6yv",
    "executionInfo": {
     "status": "ok",
     "timestamp": 1718118960553,
     "user_tz": -240,
     "elapsed": 349,
     "user": {
      "displayName": "Amr Achraf",
      "userId": "01741171265289641694"
     }
    },
    "outputId": "ea52b60f-6a2b-44ec-9e14-0feb54c0a60d"
   },
   "execution_count": null,
   "outputs": [
    {
     "output_type": "execute_result",
     "data": {
      "text/plain": [
       "{'choices': [{'finish_reason': 'stop',\n",
       "   'index': 0,\n",
       "   'logprobs': None,\n",
       "   'message': {'content': '\\nThe main point discussed in the text is the process of route discovery and replies in a network, specifically focusing on the potential for malicious nodes to cause security attacks. The process involves a source node (S) querying the network for one or more routes to a destination node (T), with the destination node providing replies that cover the route contents and calculate a MAC to ensure their authenticity. The process is designed to provide the source node with a diverse topology picture.\\n\\nThe text then presents an example topology with ten nodes, including two malicious intermediate nodes (M1 and M2). It discusses several scenarios of possible security attacks, including the case where M1 attempts to mislead the source node (S) by generating a fake route reply with fewer hops and less delay, with the aim of being chosen as the preferred route by the source node. The text also highlights the importance of the source node validating the replies and updating its topology view to prevent such security attacks. ',\n",
       "    'role': 'assistant'}}],\n",
       " 'created': 4951745,\n",
       " 'id': 'cmpl-43590d9e4b7a44d6a4f78848b59fba7f',\n",
       " 'model': 'amrachraf/arxiv-assistant-merged_peft_model',\n",
       " 'object': 'chat.completion',\n",
       " 'usage': {'completion_tokens': 210,\n",
       "  'prompt_tokens': 611,\n",
       "  'total_tokens': 821}}"
      ]
     },
     "metadata": {},
     "execution_count": 62
    }
   ]
  },
  {
   "cell_type": "code",
   "source": [],
   "metadata": {
    "id": "jMc6JxSCv45x"
   },
   "execution_count": null,
   "outputs": []
  }
 ]
}
