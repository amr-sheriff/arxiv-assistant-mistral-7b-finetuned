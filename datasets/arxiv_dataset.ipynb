{
 "cells": [
  {
   "cell_type": "code",
   "execution_count": 1,
   "metadata": {
    "executionInfo": {
     "elapsed": 2,
     "status": "ok",
     "timestamp": 1716645850882,
     "user": {
      "displayName": "Amr Achraf",
      "userId": "01741171265289641694"
     },
     "user_tz": -240
    },
    "id": "wu_BOdvBCUxB"
   },
   "source": [
    "from IPython.display import HTML, display\n",
    "\n",
    "def set_css():\n",
    "  display(HTML('''\n",
    "  <style>\n",
    "    pre {\n",
    "        white-space: pre-wrap;\n",
    "    }\n",
    "  </style>\n",
    "  '''))\n",
    "\n",
    "get_ipython().events.register('pre_run_cell', set_css)"
   ],
   "outputs": []
  },
  {
   "cell_type": "code",
   "execution_count": 2,
   "metadata": {
    "colab": {
     "base_uri": "https://localhost:8080/",
     "height": 1000
    },
    "collapsed": true,
    "executionInfo": {
     "elapsed": 133879,
     "status": "ok",
     "timestamp": 1716645986057,
     "user": {
      "displayName": "Amr Achraf",
      "userId": "01741171265289641694"
     },
     "user_tz": -240
    },
    "id": "kU6K_WvGaiMs",
    "outputId": "e0b7dbc9-a35a-430f-8d18-bc8f4894f6f9"
   },
   "source": [
    "!pip install --upgrade google-cloud-storage\n",
    "!pip install llama-index\n",
    "!pip install llama-index-embeddings-huggingface llama_index datasets PyMuPDF huggingface_hub transformers llama-index-embeddings-instructor\n",
    "! pip install sentence-transformers\n",
    "! pip install llama-index-embeddings-langchain\n",
    "! pip install langchain langchain-community langchain-core\n",
    "!pip install python-dotenv\n",
    "!pip install llama-index-readers-gcs"
   ],
   "outputs": []
  },
  {
   "cell_type": "code",
   "execution_count": 4,
   "metadata": {
    "colab": {
     "base_uri": "https://localhost:8080/",
     "height": 34
    },
    "executionInfo": {
     "elapsed": 10196,
     "status": "ok",
     "timestamp": 1716649575752,
     "user": {
      "displayName": "Amr Achraf",
      "userId": "01741171265289641694"
     },
     "user_tz": -240
    },
    "id": "9zZUfIqcCl_S",
    "outputId": "90466961-f07c-4317-95d3-2a7275cb7945"
   },
   "source": [
    "from google.colab import drive\n",
    "drive.mount('/content/drive')"
   ],
   "outputs": []
  },
  {
   "cell_type": "code",
   "execution_count": 5,
   "metadata": {
    "colab": {
     "base_uri": "https://localhost:8080/",
     "height": 34
    },
    "executionInfo": {
     "elapsed": 956,
     "status": "ok",
     "timestamp": 1716649578296,
     "user": {
      "displayName": "Amr Achraf",
      "userId": "01741171265289641694"
     },
     "user_tz": -240
    },
    "id": "Phqu_nJtCmsB",
    "outputId": "e066fd6f-f8be-41b7-d095-0f40e8a8a80a"
   },
   "source": [
    "%cd drive/My Drive/Colab Notebooks/Stanford/CS224N/final-project/datasets"
   ],
   "outputs": []
  },
  {
   "cell_type": "code",
   "execution_count": null,
   "metadata": {
    "colab": {
     "base_uri": "https://localhost:8080/",
     "height": 17
    },
    "executionInfo": {
     "elapsed": 560,
     "status": "ok",
     "timestamp": 1716406189800,
     "user": {
      "displayName": "Amr Achraf",
      "userId": "01741171265289641694"
     },
     "user_tz": -240
    },
    "id": "jw0kWKfo2kT9",
    "outputId": "54bd4854-3ca2-4b10-9d33-fa8bd994c719"
   },
   "source": [
    "from google.colab import auth\n",
    "auth.authenticate_user()"
   ],
   "outputs": []
  },
  {
   "cell_type": "code",
   "execution_count": null,
   "metadata": {
    "colab": {
     "base_uri": "https://localhost:8080/"
    },
    "collapsed": true,
    "executionInfo": {
     "elapsed": 10544,
     "status": "ok",
     "timestamp": 1716388767065,
     "user": {
      "displayName": "Amr Achraf",
      "userId": "01741171265289641694"
     },
     "user_tz": -240
    },
    "id": "Z7kFHr5d2rbN",
    "outputId": "305f68a7-1fb3-4e2c-d4c2-fd1ff1e89ba8"
   },
   "source": [
    "# install gcsfuse\n",
    "# !echo deb http://packages.cloud.google.com/apt gcsfuse-bionic main > /etc/apt/sources.list.d/gcsfuse.list\n",
    "# !curl https://packages.cloud.google.com/apt/doc/apt-key.gpg | apt-key add -\n",
    "# !apt -qq update\n",
    "# !apt -qq install gcsfuse"
   ],
   "outputs": []
  },
  {
   "cell_type": "code",
   "execution_count": 6,
   "metadata": {
    "colab": {
     "base_uri": "https://localhost:8080/",
     "height": 69
    },
    "executionInfo": {
     "elapsed": 361,
     "status": "ok",
     "timestamp": 1716649581985,
     "user": {
      "displayName": "Amr Achraf",
      "userId": "01741171265289641694"
     },
     "user_tz": -240
    },
    "id": "f0HF-BgxCrcK",
    "outputId": "e9321dec-2bf6-4682-c0d9-76d1a03111c2"
   },
   "source": [
    "# verify that you are in the right directory\n",
    "! ls #arxiv-papers"
   ],
   "outputs": []
  },
  {
   "cell_type": "code",
   "execution_count": 7,
   "metadata": {
    "colab": {
     "base_uri": "https://localhost:8080/",
     "height": 17
    },
    "executionInfo": {
     "elapsed": 1627,
     "status": "ok",
     "timestamp": 1716649584722,
     "user": {
      "displayName": "Amr Achraf",
      "userId": "01741171265289641694"
     },
     "user_tz": -240
    },
    "id": "x92LgA34Z4O4",
    "outputId": "b467912a-9028-4565-9234-f85bf6f9bc08"
   },
   "source": [
    "from google.colab import userdata\n",
    "import os\n",
    "\n",
    "os.environ['hf'] = userdata.get('hf')"
   ],
   "outputs": []
  },
  {
   "cell_type": "code",
   "execution_count": null,
   "metadata": {
    "colab": {
     "base_uri": "https://localhost:8080/",
     "height": 17
    },
    "executionInfo": {
     "elapsed": 344,
     "status": "ok",
     "timestamp": 1716388820964,
     "user": {
      "displayName": "Amr Achraf",
      "userId": "01741171265289641694"
     },
     "user_tz": -240
    },
    "id": "Jzu2xXH46Npt",
    "outputId": "59f755cc-9b79-4f84-8221-e86ba5859daa"
   },
   "source": [
    "# !mkdir gcp_directory"
   ],
   "outputs": []
  },
  {
   "cell_type": "code",
   "source": [
    "import multiprocessing\n",
    "\n",
    "cores = multiprocessing.cpu_count() # Count the number of cores in a computer\n",
    "cores"
   ],
   "metadata": {
    "colab": {
     "base_uri": "https://localhost:8080/"
    },
    "id": "tnyZl5nxlFoh",
    "executionInfo": {
     "status": "ok",
     "timestamp": 1716688045069,
     "user_tz": -240,
     "elapsed": 507,
     "user": {
      "displayName": "Amr Achraf",
      "userId": "01741171265289641694"
     }
    },
    "outputId": "8932a260-c30d-4c6b-ef49-088f6d6a105b"
   },
   "execution_count": 2,
   "outputs": []
  },
  {
   "cell_type": "code",
   "execution_count": null,
   "metadata": {
    "colab": {
     "base_uri": "https://localhost:8080/",
     "height": 193
    },
    "collapsed": true,
    "executionInfo": {
     "elapsed": 577,
     "status": "ok",
     "timestamp": 1716391115272,
     "user": {
      "displayName": "Amr Achraf",
      "userId": "01741171265289641694"
     },
     "user_tz": -240
    },
    "id": "J9iIbDJi6Xiv",
    "outputId": "866cee31-ad69-46a8-b33e-fe6ded77c976"
   },
   "source": [
    "# !gcsfuse --implicit-dirs arxiv-dataset gcp_directory"
   ],
   "outputs": []
  },
  {
   "cell_type": "code",
   "execution_count": null,
   "metadata": {
    "colab": {
     "base_uri": "https://localhost:8080/",
     "height": 243
    },
    "collapsed": true,
    "executionInfo": {
     "elapsed": 2103,
     "status": "ok",
     "timestamp": 1716391598891,
     "user": {
      "displayName": "Amr Achraf",
      "userId": "01741171265289641694"
     },
     "user_tz": -240
    },
    "id": "MP6ZeqFT7IKZ",
    "outputId": "2d9ba5a6-d9b9-4d63-a38e-6ab45da58ddb"
   },
   "source": [
    "# !ls gcp_directory/arxiv/arxiv/pdf"
   ],
   "outputs": []
  },
  {
   "cell_type": "code",
   "execution_count": null,
   "metadata": {
    "id": "ZIZ8CTSTBsq-"
   },
   "source": [
    "# testing small files\n",
    "!python process-arxiv-data.py --main_directory \"/content/drive/My Drive/Colab Notebooks/Stanford/CS224N/final-project/datasets/arxiv-papers\" --model_name \"WhereIsAI/UAE-Large-V1\" --hf_username \"amrachraf\" --hf_dataset_name \"arXiv-full-text-chunked-test\" --chunk_size_gb 40 --local_path \"/content/drive/MyDrive/Colab Notebooks/Stanford/CS224N/final-project/datasets/temp\" --base_chunk_count 0"
   ],
   "outputs": []
  },
  {
   "cell_type": "code",
   "execution_count": 8,
   "metadata": {
    "colab": {
     "base_uri": "https://localhost:8080/",
     "height": 17
    },
    "executionInfo": {
     "elapsed": 357,
     "status": "ok",
     "timestamp": 1716649591894,
     "user": {
      "displayName": "Amr Achraf",
      "userId": "01741171265289641694"
     },
     "user_tz": -240
    },
    "id": "krkqwAMnvL7s",
    "outputId": "87b7d143-ca2f-4fd3-ff28-567598c04200"
   },
   "source": [
    "service_account_key_path = \"amrr-382100-29e33e7c03a1.json\"\n",
    "bucket_name = \"arxiv-dataset\"\n",
    "prefix = \"arxiv/arxiv/pdf\""
   ],
   "outputs": []
  },
  {
   "cell_type": "code",
   "execution_count": 9,
   "metadata": {
    "colab": {
     "base_uri": "https://localhost:8080/",
     "height": 1000
    },
    "executionInfo": {
     "elapsed": 4131005,
     "status": "ok",
     "timestamp": 1716653727495,
     "user": {
      "displayName": "Amr Achraf",
      "userId": "01741171265289641694"
     },
     "user_tz": -240
    },
    "id": "_9gGRWJeSz-h",
    "outputId": "94b13611-dfbe-45d3-8b1b-9e2350a3adf1"
   },
   "source": [
    "!python process-arxiv-data-v3.py --bucket_name $bucket_name --prefix $prefix --folders 2403 2402 2401 2312 2311 2310 2309 2308 2307 \\\n",
    "2306 2305 2304 2303 2302 2301 2212 2211 2210 2209  \\\n",
    " --service_account_key_path $service_account_key_path \\\n",
    " --model_name \"WhereIsAI/UAE-Large-V1\" --hf_username \"amrachraf\" \\\n",
    " --hf_dataset_name \"arXiv-full-text-chunked\" --chunk_size_gb 0.1 \\\n",
    " --local_path \"/content/drive/MyDrive/Colab Notebooks/Stanford/CS224N/final-project/datasets/temp\" \\\n",
    " --base_chunk_count 4 --num_files_limit 200 --max_files 400 --use_folder_limit True"
   ],
   "outputs": []
  },
  {
   "cell_type": "code",
   "execution_count": null,
   "metadata": {
    "id": "sxtpWHM0WMSa"
   },
   "source": [],
   "outputs": []
  },
  {
   "cell_type": "code",
   "execution_count": null,
   "metadata": {
    "colab": {
     "base_uri": "https://localhost:8080/",
     "height": 1000
    },
    "collapsed": true,
    "executionInfo": {
     "elapsed": 52728,
     "status": "ok",
     "timestamp": 1716499450604,
     "user": {
      "displayName": "Amr Achraf",
      "userId": "01741171265289641694"
     },
     "user_tz": -240
    },
    "id": "-4UToQRa5ZZf",
    "outputId": "d8067771-4d11-45cb-d5cc-0c5118aa09fc"
   },
   "source": [
    "# testing multithreading\n",
    "!python process-arxiv-data-v2.py --bucket_name $bucket_name --prefix $prefix --folders 2403 2402 2401 2312 2311 2310 2309 2308 2307 \\\n",
    "2306 2305 2304 2303 2302 2301 2212 2211 2210 2209  \\\n",
    " --service_account_key_path $service_account_key_path \\\n",
    " --model_name \"WhereIsAI/UAE-Large-V1\" --hf_username \"amrachraf\" \\\n",
    " --hf_dataset_name \"arXiv-full-text-chunked-test2\" --chunk_size_gb 0.1 \\\n",
    " --local_path \"/content/drive/MyDrive/Colab Notebooks/Stanford/CS224N/final-project/datasets/temp\" \\\n",
    " --base_chunk_count 0 --num_files_limit 2 --max_files 10 --use_folder_limit True"
   ],
   "outputs": []
  },
  {
   "cell_type": "code",
   "execution_count": null,
   "metadata": {
    "colab": {
     "base_uri": "https://localhost:8080/"
    },
    "collapsed": true,
    "executionInfo": {
     "elapsed": 72431,
     "status": "ok",
     "timestamp": 1716511843332,
     "user": {
      "displayName": "Amr Achraf",
      "userId": "01741171265289641694"
     },
     "user_tz": -240
    },
    "id": "Q6Ns4Fhd5ahO",
    "outputId": "af4f7c81-8b31-4ae5-8f77-128ccce58dc7"
   },
   "source": [
    "# testing multiprocessing\n",
    "!python process-arxiv-data-v3.py --bucket_name $bucket_name --prefix $prefix --folders 2403 2402 2401 2312 2311 2310 2309 2308 2307 \\\n",
    "2306 2305 2304 2303 2302 2301 2212 2211 2210 2209  \\\n",
    " --service_account_key_path $service_account_key_path \\\n",
    " --model_name \"WhereIsAI/UAE-Large-V1\" --hf_username \"amrachraf\" \\\n",
    " --hf_dataset_name \"arXiv-full-text-chunked-test\" --chunk_size_gb 0.1 \\\n",
    " --local_path \"/content/drive/MyDrive/Colab Notebooks/Stanford/CS224N/final-project/datasets/temp\" \\\n",
    " --base_chunk_count 0 --num_files_limit 2 --max_files 10 --use_folder_limit True"
   ],
   "outputs": []
  },
  {
   "cell_type": "code",
   "execution_count": null,
   "metadata": {
    "id": "BvHwnJHLGxla"
   },
   "source": [
    "from google.cloud import storage"
   ],
   "outputs": []
  },
  {
   "cell_type": "code",
   "execution_count": null,
   "metadata": {
    "colab": {
     "base_uri": "https://localhost:8080/",
     "height": 71
    },
    "executionInfo": {
     "elapsed": 311,
     "status": "ok",
     "timestamp": 1716511966364,
     "user": {
      "displayName": "Amr Achraf",
      "userId": "01741171265289641694"
     },
     "user_tz": -240
    },
    "id": "lP_TFkvpHGK6",
    "outputId": "2a9a4091-6d6b-45d7-ae91-201c944b09d1"
   },
   "source": [
    "ls"
   ],
   "outputs": []
  },
  {
   "cell_type": "code",
   "execution_count": null,
   "metadata": {
    "colab": {
     "base_uri": "https://localhost:8080/",
     "height": 17
    },
    "executionInfo": {
     "elapsed": 4749,
     "status": "ok",
     "timestamp": 1716407410336,
     "user": {
      "displayName": "Amr Achraf",
      "userId": "01741171265289641694"
     },
     "user_tz": -240
    },
    "id": "0W54snPWeP2w",
    "outputId": "852356d2-7862-4890-b214-c15d233718bf"
   },
   "source": [],
   "outputs": []
  },
  {
   "cell_type": "code",
   "execution_count": null,
   "metadata": {
    "id": "GrsQMcLeS0_j"
   },
   "source": [
    "# service_account_key_path = \"amrr-382100-29e33e7c03a1.json\"\n",
    "# bucket_name = \"arxiv-dataset\"\n",
    "# prefix = \"arxiv/arxiv/pdf\"\n",
    "\n",
    "# def list_files_in_bucket(bucket_name, prefix, service_account_key_path):\n",
    "#     client = storage.Client.from_service_account_json(service_account_key_path)\n",
    "#     bucket = client.bucket(bucket_name)\n",
    "#     blobs = bucket.list_blobs(prefix=prefix)\n",
    "#     for page in blobs.pages:\n",
    "#         yield from [blob.name for blob in page]"
   ],
   "outputs": []
  },
  {
   "cell_type": "code",
   "execution_count": null,
   "metadata": {
    "id": "FsR3cZckS1MK"
   },
   "source": [
    "# a = list_files_in_bucket(bucket_name, prefix, service_account_key_path)"
   ],
   "outputs": []
  },
  {
   "cell_type": "code",
   "execution_count": null,
   "metadata": {
    "colab": {
     "base_uri": "https://localhost:8080/"
    },
    "collapsed": true,
    "executionInfo": {
     "elapsed": 1290140,
     "status": "ok",
     "timestamp": 1716403282214,
     "user": {
      "displayName": "Amr Achraf",
      "userId": "01741171265289641694"
     },
     "user_tz": -240
    },
    "id": "0c8y85nmS1Wb",
    "outputId": "09261eb7-ab81-4873-d3f6-e7a4a9e1373e"
   },
   "source": [
    "# for i, file in enumerate(list_files_in_bucket(bucket_name, prefix, service_account_key_path)):\n",
    "#   print(i)"
   ],
   "outputs": []
  },
  {
   "cell_type": "code",
   "execution_count": null,
   "metadata": {
    "id": "P-eixanfS1hS"
   },
   "source": [],
   "outputs": []
  },
  {
   "cell_type": "code",
   "execution_count": null,
   "metadata": {
    "id": "QPSjFfamS1sg"
   },
   "source": [],
   "outputs": []
  },
  {
   "cell_type": "code",
   "execution_count": null,
   "metadata": {
    "colab": {
     "base_uri": "https://localhost:8080/",
     "height": 104
    },
    "executionInfo": {
     "elapsed": 4345,
     "status": "ok",
     "timestamp": 1716301226823,
     "user": {
      "displayName": "Amr Achraf",
      "userId": "01741171265289641694"
     },
     "user_tz": -240
    },
    "id": "N995wi3fKNGX",
    "outputId": "0218746f-3acb-4bb4-ab54-fed789cc0ded"
   },
   "source": [
    "from huggingface_hub import notebook_login, login\n",
    "from google.colab import userdata\n",
    "\n",
    "hfToken = userdata.get('hf')\n",
    "# notebook_login()\n",
    "login(hfToken)"
   ],
   "outputs": []
  },
  {
   "cell_type": "code",
   "execution_count": null,
   "metadata": {
    "colab": {
     "base_uri": "https://localhost:8080/",
     "height": 17
    },
    "executionInfo": {
     "elapsed": 550,
     "status": "ok",
     "timestamp": 1716281296015,
     "user": {
      "displayName": "Amr Achraf",
      "userId": "01741171265289641694"
     },
     "user_tz": -240
    },
    "id": "Jy1QjpoRTmYc",
    "outputId": "9f7d2345-2fe7-4192-ab3d-995431537b09"
   },
   "source": [
    "import sys\n",
    "from numbers import Number\n",
    "from collections import deque\n",
    "from collections.abc import Set, Mapping\n",
    "\n",
    "\n",
    "ZERO_DEPTH_BASES = (str, bytes, Number, range, bytearray)\n",
    "\n",
    "\n",
    "def getsize(obj_0):\n",
    "    \"\"\"Recursively iterate to sum size of object & members.\"\"\"\n",
    "    _seen_ids = set()\n",
    "    def inner(obj):\n",
    "        obj_id = id(obj)\n",
    "        if obj_id in _seen_ids:\n",
    "            return 0\n",
    "        _seen_ids.add(obj_id)\n",
    "        size = sys.getsizeof(obj)\n",
    "        if isinstance(obj, ZERO_DEPTH_BASES):\n",
    "            pass # bypass remaining control flow and return\n",
    "        elif isinstance(obj, (tuple, list, Set, deque)):\n",
    "            size += sum(inner(i) for i in obj)\n",
    "        elif isinstance(obj, Mapping) or hasattr(obj, 'items'):\n",
    "            size += sum(inner(k) + inner(v) for k, v in getattr(obj, 'items')())\n",
    "        # Check for custom object instances - may subclass above too\n",
    "        if hasattr(obj, '__dict__'):\n",
    "            size += inner(vars(obj))\n",
    "        if hasattr(obj, '__slots__'): # can have __slots__ with __dict__\n",
    "            size += sum(inner(getattr(obj, s)) for s in obj.__slots__ if hasattr(obj, s))\n",
    "        return size\n",
    "    return inner(obj_0)"
   ],
   "outputs": []
  },
  {
   "cell_type": "code",
   "execution_count": null,
   "metadata": {
    "colab": {
     "base_uri": "https://localhost:8080/",
     "height": 34
    },
    "executionInfo": {
     "elapsed": 549,
     "status": "ok",
     "timestamp": 1716281395682,
     "user": {
      "displayName": "Amr Achraf",
      "userId": "01741171265289641694"
     },
     "user_tz": -240
    },
    "id": "_TCxsYlKULhX",
    "outputId": "4b35931b-8cc2-41fa-f823-9ebb9ea03d6e"
   },
   "source": [
    "getsize(documents)/1e+9"
   ],
   "outputs": []
  }
 ],
 "metadata": {
  "accelerator": "GPU",
  "colab": {
   "gpuType": "T4",
   "provenance": [],
   "authorship_tag": "ABX9TyNT+mwm/TBtgQZG2unoaBbQ"
  },
  "kernelspec": {
   "display_name": "Python 3",
   "name": "python3"
  },
  "language_info": {
   "name": "python"
  }
 },
 "nbformat": 4,
 "nbformat_minor": 0
}
